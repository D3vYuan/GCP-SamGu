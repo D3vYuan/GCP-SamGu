{
 "cells": [
  {
   "cell_type": "markdown",
   "metadata": {},
   "source": [
    "Firstly, please open this README document using your own web browser: https://github.com/telescopeuser/GCP-SamGu\n",
    "\n",
    "\n",
    "### Video lecture link:\n",
    "* YouTube [To be announced]\n",
    "* 优酷 [To be announced]"
   ]
  },
  {
   "cell_type": "markdown",
   "metadata": {},
   "source": [
    "# < Using Deep Learning and Transfer Learning to Conduct Customized Image Analysis >\n",
    "\n",
    "<img align=\"right\" src='https://cloud.google.com/_static/7fa22d3393/images/cloud/gcp-logo.svg' width=30%>\n",
    "\n",
    "by: **Sam Gu** [ Data Science Trainer ]\n",
    "\n",
    "\n",
    "May 2017"
   ]
  },
  {
   "cell_type": "markdown",
   "metadata": {},
   "source": [
    "# 1. Agenda"
   ]
  },
  {
   "cell_type": "markdown",
   "metadata": {
    "collapsed": true
   },
   "source": [
    "* Deep Learning Basics for Image Analysis\n",
    "* Real World Image Analysis Needs\n",
    "* Idea of Transfer Learning\n",
    "* Architecture of Transfer Learning\n",
    "* Hands-on Datalab Workshop on GCP\n"
   ]
  },
  {
   "cell_type": "markdown",
   "metadata": {},
   "source": [
    "# 2. Hands-on Datalab Workshop on GCP"
   ]
  },
  {
   "cell_type": "markdown",
   "metadata": {},
   "source": [
    "### Image Analysis Lab\n",
    "### Detect Normal or Abnormal Industrial Valves, Using Transfer Learning Technology upon Google's Pre-Trained Deep Neural Network\n",
    "\n",
    "The use case here is to use drone to provide regular surveillance on remote or dangerous areas, capturing image of industrial equipment like valves, steam the data back for automatic malfunction diagnosis, using machine intelligence. This improves safety and efficiency compared to current human-involved processes, without large investment on fixed sensor infrastructure. The core part of this solution involves advanced image analysis in real world.\n",
    "\n",
    "\n",
    "In this lab, you will carry out a transfer learning example based on Google Inception-v3 image recognition neural network.\n"
   ]
  },
  {
   "cell_type": "markdown",
   "metadata": {},
   "source": [
    "\n",
    "\n",
    "\n",
    "\n",
    "### Normal Valves:\n",
    "<img align=\"left\" src='Lab/images/normal_valve_68.jpg' width=20%>\n",
    "<img align=\"left\" src='Lab/images/normal_valve_78.jpg' width=20%>\n",
    "<img align=\"left\" src='Lab/images/normal_valve_37.jpg' width=20%>\n",
    "<img align=\"left\" src='Lab/images/normal_valve_01.jpg' width=20%>"
   ]
  },
  {
   "cell_type": "markdown",
   "metadata": {},
   "source": [
    "---\n",
    "\n",
    "\n",
    "---\n",
    "\n",
    "\n",
    "---\n",
    "\n",
    "\n",
    "---\n",
    "\n",
    "\n",
    "---\n",
    "\n",
    "\n",
    "---"
   ]
  },
  {
   "cell_type": "markdown",
   "metadata": {},
   "source": [
    "### Abormal Valves:\n",
    "<img align=\"left\" src='Lab/images/abnormal_valve_55.jpg' width=20%>\n",
    "<img align=\"left\" src='Lab/images/abnormal_valve_17.jpg' width=20%>\n",
    "<img align=\"left\" src='Lab/images/abnormal_valve_76.jpg' width=20%>\n",
    "<img align=\"left\" src='Lab/images/abnormal_valve_01.jpg' width=20%>"
   ]
  },
  {
   "cell_type": "markdown",
   "metadata": {},
   "source": [
    "---\n",
    "\n",
    "\n",
    "---\n",
    "\n",
    "\n",
    "---\n",
    "\n",
    "\n",
    "---\n",
    "\n",
    "\n",
    "---\n",
    "\n",
    "\n",
    "---"
   ]
  },
  {
   "cell_type": "markdown",
   "metadata": {},
   "source": [
    "### You will learn:\n",
    "* Explore images in customer’s industry.\n",
    "* Reposition a pre-trained deep neural net for new image recognition task.\n",
    "* Perform feature extraction.\n",
    "* Obtain deep feature representation of customer’s original image.\n",
    "* Train a Support Vector Machine for new classification task.\n",
    "* Evaluate results of this transfer learning model.\n"
   ]
  },
  {
   "cell_type": "markdown",
   "metadata": {},
   "source": [
    "### Prerequisites:\n",
    "* Google Cloud Platform Account\n",
    "* Basic working knowledge of GCP, Datalab and Python\n"
   ]
  },
  {
   "cell_type": "markdown",
   "metadata": {},
   "source": [
    "# 3. Environment Setup for: Hands-on Datalab Workshop on GCP"
   ]
  },
  {
   "cell_type": "markdown",
   "metadata": {},
   "source": [
    "* Login Google Cloud Platform to start Datalab."
   ]
  },
  {
   "cell_type": "markdown",
   "metadata": {},
   "source": [
    "* Create a new notebook to download this lab by running command: \n",
    "> !git clone https://github.com/telescopeuser/GCP-SamGu.git\n",
    "\n",
    "<img align=\"center\" src='Lab/reference/note_slide/setup_01.png' width=90%>"
   ]
  },
  {
   "cell_type": "markdown",
   "metadata": {},
   "source": [
    "* Go to folder **GCP-SamGu/Lab/**, then open notebook **Lab_Image_Analysis.ipynb** to follow.\n",
    "\n",
    "<img align=\"center\" src='Lab/reference/note_slide/setup_02.png' width=90%>"
   ]
  },
  {
   "cell_type": "markdown",
   "metadata": {},
   "source": [
    "### Reference:\n",
    "* Google Cloud Platform Free Registration: https://cloud.google.com/free/\n",
    "* Google Datalab Quick Start: https://cloud.google.com/datalab/docs/quickstarts\n",
    "        "
   ]
  },
  {
   "cell_type": "markdown",
   "metadata": {},
   "source": [
    "### Google Deep Neural Network: Inception-v3:\n",
    "\n",
    "<img align=\"left\" src='https://4.bp.blogspot.com/-TMOLlkJBxms/Vt3HQXpE2cI/AAAAAAAAA8E/7X7XRFOY6Xo/s1600/image03.png' width=100%>"
   ]
  },
  {
   "cell_type": "markdown",
   "metadata": {
    "collapsed": true
   },
   "source": [
    "# 4. Congratulations! You are now equipped with practical skill to carry out deep leaning image analysis in real world!"
   ]
  },
  {
   "cell_type": "markdown",
   "metadata": {},
   "source": [
    "### You have learnt:\n",
    "* Deep Learning Basics for Image Analysis\n",
    "* Real World Image Analysis Needs\n",
    "* Idea of Transfer Learning\n",
    "* Architecture of Transfer Learning\n",
    "* Hands-on Datalab Workshop on GCP"
   ]
  },
  {
   "cell_type": "markdown",
   "metadata": {},
   "source": [
    "---"
   ]
  }
 ],
 "metadata": {
  "kernelspec": {
   "display_name": "Python 3",
   "language": "python",
   "name": "python3"
  },
  "language_info": {
   "codemirror_mode": {
    "name": "ipython",
    "version": 3
   },
   "file_extension": ".py",
   "mimetype": "text/x-python",
   "name": "python",
   "nbconvert_exporter": "python",
   "pygments_lexer": "ipython3",
   "version": "3.5.1"
  }
 },
 "nbformat": 4,
 "nbformat_minor": 0
}
