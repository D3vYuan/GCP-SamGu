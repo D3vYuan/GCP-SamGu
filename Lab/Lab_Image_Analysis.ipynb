{
 "cells": [
  {
   "cell_type": "code",
   "execution_count": 2,
   "metadata": {
    "collapsed": false
   },
   "outputs": [
    {
     "name": "stdout",
     "output_type": "stream",
     "text": [
      "/content/datalab/GCP-SamGu/Lab\r\n"
     ]
    }
   ],
   "source": [
    "# Find out which file directory we are currently in:\n",
    "!pwd"
   ]
  },
  {
   "cell_type": "markdown",
   "metadata": {},
   "source": [
    "### Google's Inception-v3 Deep Neural Network Model\n",
    "\n",
    "The pre-trained deep learning model that will be used is Inception-v3. It has been developed by Google and has been trained for the ImageNet Competition using the data from 2012. We chose this model because of its high classification performance and because it is easily available in TensorFlow.\n",
    "\n",
    "We have downloaded the pre-trained DCNN model at 'reference/reusable_model' directory.\n",
    "If you want to re-download this model, run: !python ./reference/classify_image.py --model_dir ./reference/reusable_model\n",
    "\n",
    "The customer's images are in the 'images' directory."
   ]
  },
  {
   "cell_type": "code",
   "execution_count": 4,
   "metadata": {
    "collapsed": false
   },
   "outputs": [
    {
     "name": "stdout",
     "output_type": "stream",
     "text": [
      ">> Downloading inception-2015-12-05.tgz 100.0%\n",
      "Successfully downloaded inception-2015-12-05.tgz 88931400 bytes.\n",
      "W tensorflow/core/platform/cpu_feature_guard.cc:45] The TensorFlow library wasn't compiled to use SSE3 instructions, but these are available on your machine and could speed up CPU computations.\n",
      "W tensorflow/core/platform/cpu_feature_guard.cc:45] The TensorFlow library wasn't compiled to use SSE4.1 instructions, but these are available on your machine and could speed up CPU computations.\n",
      "W tensorflow/core/platform/cpu_feature_guard.cc:45] The TensorFlow library wasn't compiled to use SSE4.2 instructions, but these are available on your machine and could speed up CPU computations.\n",
      "W tensorflow/core/platform/cpu_feature_guard.cc:45] The TensorFlow library wasn't compiled to use AVX instructions, but these are available on your machine and could speed up CPU computations.\n",
      "W tensorflow/core/framework/op_def_util.cc:332] Op BatchNormWithGlobalNormalization is deprecated. It will cease to work in GraphDef version 9. Use tf.nn.batch_normalization().\n",
      "giant panda, panda, panda bear, coon bear, Ailuropoda melanoleuca (score = 0.89107)\n",
      "indri, indris, Indri indri, Indri brevicaudatus (score = 0.00779)\n",
      "lesser panda, red panda, panda, bear cat, cat bear, Ailurus fulgens (score = 0.00296)\n",
      "custard apple (score = 0.00147)\n",
      "earthstar (score = 0.00117)\n"
     ]
    }
   ],
   "source": [
    "# !python ./reference/classify_image.py --model_dir ./reference/reusable_model"
   ]
  },
  {
   "cell_type": "markdown",
   "metadata": {},
   "source": [
    "### Download customer image data:"
   ]
  },
  {
   "cell_type": "code",
   "execution_count": 5,
   "metadata": {
    "collapsed": false
   },
   "outputs": [],
   "source": [
    "# !git clone https://github.com/telescopeuser/images.git"
   ]
  },
  {
   "cell_type": "markdown",
   "metadata": {},
   "source": [
    "### Start Deep Learning & Transfer Learning"
   ]
  },
  {
   "cell_type": "code",
   "execution_count": 6,
   "metadata": {
    "collapsed": true
   },
   "outputs": [],
   "source": [
    "import os\n",
    "import re\n",
    "\n",
    "import tensorflow as tf\n",
    "import tensorflow.python.platform\n",
    "from tensorflow.python.platform import gfile\n",
    "import numpy as np\n",
    "import pandas as pd\n",
    "import sklearn\n",
    "from sklearn import cross_validation\n",
    "from sklearn.metrics import accuracy_score, confusion_matrix\n",
    "from sklearn.svm import SVC, LinearSVC\n",
    "import matplotlib.pyplot as plt\n",
    "%matplotlib inline\n",
    "import pickle"
   ]
  },
  {
   "cell_type": "code",
   "execution_count": 9,
   "metadata": {
    "collapsed": true
   },
   "outputs": [],
   "source": [
    "model_dir = 'reference/reusable_model'\n",
    "images_dir = 'images/'\n",
    "list_images = [images_dir+f for f in os.listdir(images_dir) if re.search('jpg|JPG', f)]"
   ]
  },
  {
   "cell_type": "code",
   "execution_count": 10,
   "metadata": {
    "collapsed": false
   },
   "outputs": [
    {
     "name": "stdout",
     "output_type": "stream",
     "text": [
      "Number of Customer's Images       : 0\n"
     ]
    }
   ],
   "source": [
    "print('Number of Customer\\'s Images       : %d' % len(list_images))"
   ]
  },
  {
   "cell_type": "markdown",
   "metadata": {},
   "source": [
    "To use TensorFlow, you should define a graph that represents the description of computations. Then these computations will be executed within what is called sessions. If you want to know more about the basics of TensorFlow, you can go here.\n",
    "\n",
    "The following function creates a graph from the graph definition that we just downloaded and that is saved in classify_image_graph_def.pb"
   ]
  },
  {
   "cell_type": "code",
   "execution_count": 4,
   "metadata": {
    "collapsed": false
   },
   "outputs": [],
   "source": [
    "def create_graph():\n",
    "  with gfile.FastGFile(os.path.join(model_dir, 'classify_image_graph_def.pb'), 'rb') as f:\n",
    "    graph_def = tf.GraphDef()\n",
    "    graph_def.ParseFromString(f.read())\n",
    "    _ = tf.import_graph_def(graph_def, name='')"
   ]
  },
  {
   "cell_type": "markdown",
   "metadata": {},
   "source": [
    "Then, the next step is to extract relevant features.\n",
    "\n",
    "To do so, we retrieve the next-to-last layer of the Inception-v3 as a feature vector for each image. Indeed, the last layer of the convolutional neural network corresponds to the classification step: as it has been trained for the ImageNet dataset, the categories that it will be output will not correspond to the categories in the Product Image Classification dataset we are interested in.\n",
    "\n",
    "The output of the next-to-last layer, however, corresponds to features that are used for the classification in Inception-v3. The hypothesis here is that these features can be useful for training another classification model, so we extract the output of this layer. In TensorFlow, this layer is called pool_3.\n",
    "\n",
    "The following function returns the features corresponding to the output of this next-to-last layer and the labels for each image."
   ]
  },
  {
   "cell_type": "code",
   "execution_count": 11,
   "metadata": {
    "collapsed": true
   },
   "outputs": [],
   "source": [
    "def extract_features(list_images):\n",
    "  nb_features = 2048 # Deep Features\n",
    "  features = np.empty((len(list_images),nb_features))\n",
    "  labels = []\n",
    "\n",
    "  create_graph()\n",
    "  \n",
    "  with tf.Session() as sess:\n",
    "    next_to_last_tensor = sess.graph.get_tensor_by_name('pool_3:0')\n",
    "    \n",
    "    for ind, image in enumerate(list_images):\n",
    "      if (ind%20 == 0):\n",
    "        print('Processing %s...' % (image))\n",
    "        if not gfile.Exists(image):\n",
    "          tf.logging.fatal('File does not exist %s', image)\n",
    "          \n",
    "        image_data = gfile.FastGFile(image, 'rb').read()\n",
    "        predictions = sess.run(next_to_last_tensor,\n",
    "                               {'DecodeJpeg/contents:0': image_data})\n",
    "        features[ind,:] = np.squeeze(predictions)\n",
    "        labels.append(re.split('_\\d+',image.split('/')[1])[0]) # Naming Convention: Class Lable + Digits + .jpg|JPG\n",
    "          \n",
    "    print('Processing Completed !')\n",
    "    return features, labels\n"
   ]
  },
  {
   "cell_type": "code",
   "execution_count": 12,
   "metadata": {
    "collapsed": false
   },
   "outputs": [
    {
     "name": "stdout",
     "output_type": "stream",
     "text": [
      "Processing images/abnormal_valve_78.jpg...\n",
      "Processing images/normal_valve_13.jpg...\n",
      "Processing images/abnormal_valve_11.jpg...\n",
      "Processing images/normal_valve_63.jpg...\n",
      "Processing images/abnormal_valve_47.jpg...\n",
      "Processing images/normal_valve_31.jpg...\n",
      "Processing images/normal_valve_65.jpg...\n",
      "Processing images/normal_valve_56.jpg...\n",
      "Processing images/normal_valve_48.jpg...\n",
      "Processing images/normal_valve_26.jpg...\n",
      "Processing images/normal_valve_73.JPG...\n",
      "Processing images/abnormal_valve_23.jpg...\n",
      "Processing images/abnormal_valve_45.jpg...\n",
      "Processing images/normal_valve_10.jpg...\n",
      "Processing images/normal_valve_74.JPG...\n",
      "Processing images/abnormal_valve_58.jpg...\n",
      "Processing images/normal_valve_30.jpg...\n",
      "Processing images/abnormal_valve_39.jpg...\n",
      "Processing images/abnormal_valve_68.jpg...\n",
      "Processing images/normal_valve_34.jpg...\n",
      "Processing images/abnormal_valve_67.jpg...\n",
      "Processing images/abnormal_valve_35.jpg...\n",
      "Processing images/normal_valve_14.jpg...\n",
      "Processing images/normal_valve_71.jpg...\n",
      "Processing images/normal_valve_60.jpg...\n",
      "Processing images/normal_valve_03.jpg...\n",
      "Processing images/abnormal_valve_22.jpg...\n",
      "Processing images/normal_valve_49.jpg...\n",
      "Processing images/abnormal_valve_25.jpg...\n",
      "Processing images/abnormal_valve_65.jpg...\n",
      "Processing images/abnormal_valve_28.jpg...\n",
      "Processing images/normal_valve_44.jpg...\n",
      "Processing images/abnormal_valve_81.jpg...\n",
      "Processing images/normal_valve_75.jpg...\n",
      "Processing images/abnormal_valve_32.jpg...\n",
      "Processing images/normal_valve_58.jpg...\n",
      "Processing images/normal_valve_77.jpg...\n",
      "Processing images/normal_valve_70.jpg...\n",
      "Processing images/normal_valve_62.jpg...\n",
      "Processing images/abnormal_valve_46.jpg...\n",
      "Processing images/abnormal_valve_73.jpg...\n",
      "Processing images/abnormal_valve_49.jpg...\n",
      "Processing images/normal_valve_64.jpg...\n",
      "Processing images/abnormal_valve_69.jpg...\n",
      "Processing images/normal_valve_53.jpg...\n",
      "Processing images/abnormal_valve_16.jpg...\n",
      "Processing images/normal_valve_67.jpg...\n",
      "Processing images/normal_valve_78.jpg...\n",
      "Processing images/abnormal_valve_42.jpg...\n",
      "Processing images/abnormal_valve_41.jpg...\n",
      "Processing images/normal_valve_80.jpg...\n",
      "Processing images/normal_valve_54.jpg...\n",
      "Processing images/abnormal_valve_31.jpg...\n",
      "Processing images/abnormal_valve_50.jpg...\n",
      "Processing images/abnormal_valve_74.jpg...\n",
      "Processing images/normal_valve_28.jpg...\n",
      "Processing images/normal_valve_01.jpg...\n",
      "Processing images/normal_valve_81.jpg...\n",
      "Processing images/abnormal_valve_48.jpg...\n",
      "Processing images/abnormal_valve_06.jpg...\n",
      "Processing images/abnormal_valve_13.jpg...\n",
      "Processing images/normal_valve_66.jpg...\n",
      "Processing images/abnormal_valve_19.jpg...\n",
      "Processing images/abnormal_valve_37.jpg...\n",
      "Processing images/abnormal_valve_59.jpg...\n",
      "Processing images/abnormal_valve_51.jpg...\n",
      "Processing images/abnormal_valve_15.jpg...\n",
      "Processing images/abnormal_valve_71.jpg...\n",
      "Processing images/abnormal_valve_61.jpg...\n",
      "Processing images/normal_valve_24.jpg...\n",
      "Processing images/normal_valve_52.jpg...\n",
      "Processing images/normal_valve_33.jpg...\n",
      "Processing images/abnormal_valve_26.jpg...\n",
      "Processing images/normal_valve_51.jpg...\n",
      "Processing images/normal_valve_68.jpg...\n",
      "Processing images/normal_valve_27.jpg...\n",
      "Processing images/abnormal_valve_30.jpg...\n",
      "Processing images/abnormal_valve_60.jpg...\n",
      "Processing images/abnormal_valve_07.jpg...\n",
      "Processing images/abnormal_valve_52.jpg...\n",
      "Processing images/abnormal_valve_83.jpg...\n",
      "Processing images/normal_valve_41.jpg...\n",
      "Processing images/normal_valve_23.jpg...\n",
      "Processing images/abnormal_valve_12.jpg...\n",
      "Processing images/normal_valve_42.jpg...\n",
      "Processing images/abnormal_valve_82.jpg...\n",
      "Processing images/normal_valve_43.jpg...\n",
      "Processing images/abnormal_valve_27.jpg...\n",
      "Processing images/normal_valve_05.jpg...\n",
      "Processing images/normal_valve_12.jpg...\n",
      "Processing images/abnormal_valve_72.jpg...\n",
      "Processing images/abnormal_valve_43.jpg...\n",
      "Processing images/normal_valve_37.jpg...\n",
      "Processing images/abnormal_valve_20.jpg...\n",
      "Processing images/normal_valve_16.jpg...\n",
      "Processing images/abnormal_valve_01.jpg...\n",
      "Processing images/normal_valve_61.jpg...\n",
      "Processing images/normal_valve_46.jpg...\n",
      "Processing images/normal_valve_69.jpg...\n",
      "Processing images/abnormal_valve_24.jpg...\n",
      "Processing images/abnormal_valve_21.jpg...\n",
      "Processing images/abnormal_valve_80.jpg...\n",
      "Processing images/normal_valve_57.jpg...\n",
      "Processing images/abnormal_valve_14.jpg...\n",
      "Processing images/abnormal_valve_40.jpg...\n",
      "Processing images/normal_valve_02.jpg...\n",
      "Processing images/normal_valve_83.jpg...\n",
      "Processing images/normal_valve_19.JPG...\n",
      "Processing images/abnormal_valve_54.jpg...\n",
      "Processing images/abnormal_valve_76.jpg...\n",
      "Processing images/abnormal_valve_29.jpg...\n",
      "Processing images/normal_valve_72.jpg...\n",
      "Processing images/abnormal_valve_34.jpg...\n",
      "Processing images/abnormal_valve_08.jpg...\n",
      "Processing images/abnormal_valve_79.jpg...\n",
      "Processing images/normal_valve_20.JPG...\n",
      "Processing images/abnormal_valve_53.jpg...\n",
      "Processing images/abnormal_valve_66.jpg...\n",
      "Processing images/normal_valve_47.jpg...\n",
      "Processing images/abnormal_valve_18.jpg...\n",
      "Processing images/abnormal_valve_63.jpg...\n",
      "Processing images/abnormal_valve_44.jpg...\n",
      "Processing images/abnormal_valve_75.jpg...\n",
      "Processing images/normal_valve_09.jpg...\n",
      "Processing images/normal_valve_04.jpg...\n",
      "Processing images/abnormal_valve_64.jpg...\n",
      "Processing images/normal_valve_21.jpg...\n",
      "Processing images/abnormal_valve_04.jpg...\n",
      "Processing images/abnormal_valve_36.jpg...\n",
      "Processing images/normal_valve_06.jpg...\n",
      "Processing images/abnormal_valve_05.jpg...\n",
      "Processing images/abnormal_valve_03.jpg...\n",
      "Processing images/abnormal_valve_56.jpg...\n",
      "Processing images/normal_valve_25.jpg...\n",
      "Processing images/normal_valve_32.jpg...\n",
      "Processing images/abnormal_valve_02.jpg...\n",
      "Processing images/abnormal_valve_77.jpg...\n",
      "Processing images/normal_valve_17.jpg...\n",
      "Processing images/normal_valve_84.jpg...\n",
      "Processing images/normal_valve_07.jpg...\n",
      "Processing images/normal_valve_15.jpg...\n",
      "Processing images/normal_valve_82.jpg...\n",
      "Processing images/abnormal_valve_55.jpg...\n",
      "Processing images/normal_valve_38.jpg...\n",
      "Processing images/normal_valve_36.jpg...\n",
      "Processing images/abnormal_valve_33.jpg...\n",
      "Processing images/normal_valve_22.jpg...\n",
      "Processing images/abnormal_valve_38.jpg...\n",
      "Processing images/normal_valve_55.jpg...\n",
      "Processing images/normal_valve_76.jpg...\n",
      "Processing images/abnormal_valve_17.jpg...\n",
      "Processing images/normal_valve_29.jpg...\n",
      "Processing images/normal_valve_59.jpg...\n",
      "Processing images/normal_valve_79.jpg...\n",
      "Processing images/abnormal_valve_62.jpg...\n",
      "Processing images/normal_valve_18.jpg...\n",
      "Processing images/normal_valve_45.jpg...\n",
      "Processing images/abnormal_valve_84.jpg...\n",
      "Processing images/normal_valve_11.JPG...\n",
      "Processing images/normal_valve_35.jpg...\n",
      "Processing images/normal_valve_50.jpg...\n",
      "Processing images/normal_valve_08.jpg...\n",
      "Processing images/abnormal_valve_10.jpg...\n",
      "Processing images/normal_valve_39.jpg...\n",
      "Processing images/abnormal_valve_70.jpg...\n",
      "Processing images/abnormal_valve_09.jpg...\n",
      "Processing images/abnormal_valve_57.jpg...\n",
      "Processing images/normal_valve_40.jpg...\n"
     ]
    }
   ],
   "source": [
    "features,labels = extract_features(list_images)"
   ]
  },
  {
   "cell_type": "code",
   "execution_count": 23,
   "metadata": {
    "collapsed": false
   },
   "outputs": [
    {
     "name": "stdout",
     "output_type": "stream",
     "text": [
      "Number of Images                   : 168\n",
      "Number of Deep Features per Images : 2048\n",
      "Unique Image Classess (Labels)     : ['abnormal_valve', 'normal_valve']\n"
     ]
    }
   ],
   "source": [
    "print('Number of Images                   : %d' % len(features))\n",
    "print('Number of Deep Features per Images : %d' % len(features[0]))\n",
    "print('Unique Image Classess (Labels)     : %s' % list(set(labels)))"
   ]
  },
  {
   "cell_type": "markdown",
   "metadata": {},
   "source": [
    "Then the features and labels are saved, so they can be used without re-running this step."
   ]
  },
  {
   "cell_type": "code",
   "execution_count": 21,
   "metadata": {
    "collapsed": false
   },
   "outputs": [],
   "source": [
    "pickle.dump(features, open('features', 'wb'))\n",
    "pickle.dump(labels, open('labels', 'wb'))"
   ]
  },
  {
   "cell_type": "markdown",
   "metadata": {},
   "source": [
    "### Classification based on the features computed using TensorFlow\n",
    "\n",
    "We will now use the features that we just computed with TensorFlow to train a classifier on the images. Another strategy could be to re-train the last layer of the CNN in TensorFlow, as shown here in TensorFlow tutorials and here for the python version."
   ]
  },
  {
   "cell_type": "markdown",
   "metadata": {},
   "source": [
    "### Prepare training and test datasets:"
   ]
  },
  {
   "cell_type": "code",
   "execution_count": 24,
   "metadata": {
    "collapsed": true
   },
   "outputs": [],
   "source": [
    "features = pickle.load(open('features'))\n",
    "labels = pickle.load(open('labels'))"
   ]
  },
  {
   "cell_type": "markdown",
   "metadata": {},
   "source": [
    "### We will use 80% of the data as the training set and 20% as the test set."
   ]
  },
  {
   "cell_type": "code",
   "execution_count": 32,
   "metadata": {
    "collapsed": true
   },
   "outputs": [],
   "source": [
    "X_train, X_test, y_train, y_test = cross_validation.train_test_split(features, labels, test_size=0.3, random_state=42)"
   ]
  },
  {
   "cell_type": "markdown",
   "metadata": {},
   "source": [
    "### Classifying the images with a Linear Support Vector Machine (SVM):\n",
    "We chose to use a linear SVM to classify the images into the 2 categories using the features computed with TensorFlow. We used the LinearSVC implementation with the default parameters."
   ]
  },
  {
   "cell_type": "code",
   "execution_count": 33,
   "metadata": {
    "collapsed": true
   },
   "outputs": [],
   "source": [
    "clf = LinearSVC(C=1.0, loss='squared_hinge', penalty='l2',multi_class='ovr')\n",
    "clf.fit(X_train, y_train)\n",
    "y_pred = clf.predict(X_test)"
   ]
  },
  {
   "cell_type": "markdown",
   "metadata": {},
   "source": [
    "### Evaluation: We will plot the confusion matrix (computed with scikit-learn) to visualize the classification performance, on top of the accuracy score."
   ]
  },
  {
   "cell_type": "code",
   "execution_count": 34,
   "metadata": {
    "collapsed": false
   },
   "outputs": [],
   "source": [
    "def plot_confusion_matrix(y_true,y_pred):\n",
    "  cm_array = confusion_matrix(y_true,y_pred)\n",
    "  true_labels = np.unique(y_true)\n",
    "  pred_labels = np.unique(y_pred)\n",
    "  plt.imshow(cm_array[:-1,:-1], interpolation='nearest', cmap=plt.cm.Blues)\n",
    "  plt.title(\"Confusion matrix\", fontsize=16)\n",
    "  cbar = plt.colorbar(fraction=0.046, pad=0.04)\n",
    "  cbar.set_label('Number of images', rotation=270, labelpad=30, fontsize=12)\n",
    "  xtick_marks = np.arange(len(true_labels))\n",
    "  ytick_marks = np.arange(len(pred_labels))\n",
    "  plt.xticks(xtick_marks, true_labels, rotation=90)\n",
    "  plt.yticks(ytick_marks,pred_labels)\n",
    "  plt.tight_layout()\n",
    "  plt.ylabel('True label', fontsize=14)\n",
    "  plt.xlabel('Predicted label', fontsize=14)\n",
    "  fig_size = plt.rcParams[\"figure.figsize\"]\n",
    "  fig_size[0] = 12\n",
    "  fig_size[1] = 12\n",
    "  plt.rcParams[\"figure.figsize\"] = fig_size"
   ]
  },
  {
   "cell_type": "code",
   "execution_count": 36,
   "metadata": {
    "collapsed": true
   },
   "outputs": [],
   "source": [
    "def plot_confusion_matrix(y_true,y_pred):\n",
    "  cm_array = confusion_matrix(y_true,y_pred)\n",
    "  true_labels = np.unique(y_true)\n",
    "  pred_labels = np.unique(y_pred)\n",
    "  plt.imshow(cm_array[:-1,:-1], interpolation='nearest', cmap=plt.cm.Blues)\n",
    "  plt.title(\"Confusion matrix\", fontsize=16)\n",
    "  cbar = plt.colorbar(fraction=0.046, pad=0.04)\n",
    "  cbar.set_label('Number of images', rotation=270, labelpad=30, fontsize=12)\n",
    "  xtick_marks = np.arange(len(true_labels)-1)\n",
    "  ytick_marks = np.arange(len(pred_labels)-1)\n",
    "  plt.xticks(xtick_marks, true_labels, rotation=90)\n",
    "  plt.yticks(ytick_marks,pred_labels)\n",
    "  plt.tight_layout()\n",
    "  plt.ylabel('True label', fontsize=14)\n",
    "  plt.xlabel('Predicted label', fontsize=14)\n",
    "  fig_size = plt.rcParams[\"figure.figsize\"]\n",
    "  fig_size[0] = 12\n",
    "  fig_size[1] = 12\n",
    "  plt.rcParams[\"figure.figsize\"] = fig_size"
   ]
  },
  {
   "cell_type": "code",
   "execution_count": 37,
   "metadata": {
    "collapsed": false
   },
   "outputs": [
    {
     "name": "stdout",
     "output_type": "stream",
     "text": [
      "Accuracy: 92.2%\n"
     ]
    },
    {
     "data": {
      "image/png": "[encoded data removed]",
      "text/plain": [
       "<matplotlib.figure.Figure at 0x7ff138ec25d0>"
      ]
     },
     "metadata": {},
     "output_type": "display_data"
    }
   ],
   "source": [
    "print(\"Accuracy: {0:0.1f}%\".format(accuracy_score(y_test,y_pred)*100))\n",
    "plot_confusion_matrix(y_test,y_pred)"
   ]
  },
  {
   "cell_type": "markdown",
   "metadata": {},
   "source": [
    "The classification accuracy is 94.1 % on the test set, which is quite impressive, especially as it does not require so much work on our side !"
   ]
  },
  {
   "cell_type": "code",
   "execution_count": null,
   "metadata": {
    "collapsed": true
   },
   "outputs": [],
   "source": []
  }
 ],
 "metadata": {
  "kernelspec": {
   "display_name": "Python 2",
   "language": "python",
   "name": "python2"
  },
  "language_info": {
   "codemirror_mode": {
    "name": "ipython",
    "version": 2
   },
   "file_extension": ".py",
   "mimetype": "text/x-python",
   "name": "python",
   "nbconvert_exporter": "python",
   "pygments_lexer": "ipython2",
   "version": "2.7.9"
  }
 },
 "nbformat": 4,
 "nbformat_minor": 2
}
