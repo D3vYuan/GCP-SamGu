{
 "cells": [
  {
   "cell_type": "markdown",
   "metadata": {},
   "source": [
    "# Image Analysis Lab\n",
    "\n",
    "### Detect Normal or Abnormal Industrial Valves, Using Transfer Learning Technology upon Google's Pre-Trained Deep Neural Network\n",
    "\n",
    "The use case here is to use drone to provide regular surveillance on remote or dangerous areas, capturing image of industrial equipment like valves, them steam the image back for automatic malfunction diagnosis, using machine intelligence. This improves safety and efficiency compared to current human-involved processes, without large investment on wired sensor infrastructure. The core part of this solution involves advanced image analysis in real world.\n",
    "\n",
    "\n",
    "In this lab, you will carry out a transfer learning example based on Google Inception-v3 image recognition neural network.\n"
   ]
  },
  {
   "cell_type": "markdown",
   "metadata": {},
   "source": [
    "### You will learn:\n",
    "* Explore images in customer’s industry.\n",
    "* Reposition a pre-trained deep neural net for new image recognition task.\n",
    "* Perform feature extraction.\n",
    "* Obtain deep feature representation of customer’s original image.\n",
    "* Train a Support Vector Machine for new classification task.\n",
    "* Evaluate results of this transfer learning model."
   ]
  },
  {
   "cell_type": "markdown",
   "metadata": {},
   "source": [
    "# 1. Explore images in customer’s industry.\n",
    "Let's have a look at the problem regarding real valve images, in 'images' directory:"
   ]
  },
  {
   "cell_type": "markdown",
   "metadata": {},
   "source": [
    "### 1.1 Normal Valves:\n",
    "\n",
    "<img align=\"left\" src='images/normal_valve_68.jpg' width=20%>\n",
    "<img align=\"left\" src='images/normal_valve_78.jpg' width=20%>\n",
    "<img align=\"left\" src='images/normal_valve_37.jpg' width=20%>\n",
    "<img align=\"left\" src='images/normal_valve_01.jpg' width=20%>"
   ]
  },
  {
   "cell_type": "markdown",
   "metadata": {},
   "source": [
    "### 1.2 Abormal Valves:\n",
    "\n",
    "<img align=\"left\" src='images/abnormal_valve_55.jpg' width=20%>\n",
    "<img align=\"left\" src='images/abnormal_valve_17.jpg' width=20%>\n",
    "<img align=\"left\" src='images/abnormal_valve_76.jpg' width=20%>\n",
    "<img align=\"left\" src='images/abnormal_valve_01.jpg' width=20%>"
   ]
  },
  {
   "cell_type": "markdown",
   "metadata": {},
   "source": [
    "By: **Sam Gu** [ Data Science Trainer ]\n",
    "\n",
    "\n",
    "May 2017\n",
    "\n",
    "\n",
    "Reference: https://www.kernix.com/blog/image-classification-with-a-pre-trained-deep-neural-network_p11"
   ]
  },
  {
   "cell_type": "markdown",
   "metadata": {},
   "source": [
    "### 1.3 Google's Inception-v3 Deep Neural Network Model\n",
    "\n",
    "The pre-trained deep learning model that will be used is Inception-v3. It has been developed by Google and has been trained for the ImageNet Competition.\n",
    "\n",
    "<img align=\"left\" src='https://4.bp.blogspot.com/-TMOLlkJBxms/Vt3HQXpE2cI/AAAAAAAAA8E/7X7XRFOY6Xo/s1600/image03.png' width=70%>"
   ]
  },
  {
   "cell_type": "markdown",
   "metadata": {},
   "source": [
    "We have downloaded this pre-trained Inception model at 'reference/reusable_model' directory. If you want to re-download this model, run: \n",
    "> !python reference/classify_image.py --model_dir reference/reusable_model"
   ]
  },
  {
   "cell_type": "markdown",
   "metadata": {},
   "source": [
    "# 2. Reposition a pre-trained deep neural net for new image recognition task."
   ]
  },
  {
   "cell_type": "code",
   "execution_count": 3,
   "metadata": {
    "collapsed": true
   },
   "outputs": [],
   "source": [
    "import os\n",
    "import re\n",
    "\n",
    "import tensorflow as tf\n",
    "import tensorflow.python.platform\n",
    "from tensorflow.python.platform import gfile\n",
    "import numpy as np\n",
    "import pandas as pd\n",
    "import sklearn\n",
    "from sklearn import cross_validation\n",
    "from sklearn.metrics import accuracy_score, confusion_matrix\n",
    "from sklearn.svm import SVC, LinearSVC\n",
    "import matplotlib.pyplot as plt\n",
    "%matplotlib inline\n",
    "import pickle\n",
    "from IPython.display import Image"
   ]
  },
  {
   "cell_type": "code",
   "execution_count": 4,
   "metadata": {
    "collapsed": false
   },
   "outputs": [
    {
     "name": "stdout",
     "output_type": "stream",
     "text": [
      "Number of Customer's Images       : 168\n"
     ]
    }
   ],
   "source": [
    "model_dir = 'reference/reusable_model/'\n",
    "images_dir = 'images/'\n",
    "list_images = [images_dir+f for f in os.listdir(images_dir) if re.search('jpg|JPG', f)]\n",
    "\n",
    "print('Number of Customer\\'s Images       : %d' % len(list_images))"
   ]
  },
  {
   "cell_type": "markdown",
   "metadata": {},
   "source": [
    "To use TensorFlow, you should define a graph that represents the description of computations. Then these computations will be executed within what is called sessions. If you want to know more about the basics of TensorFlow, you can go to: https://www.tensorflow.org/\n",
    "\n",
    "The following function creates a graph from the graph definition that we just downloaded and that is saved in classify_image_graph_def.pb"
   ]
  },
  {
   "cell_type": "code",
   "execution_count": null,
   "metadata": {
    "collapsed": false
   },
   "outputs": [],
   "source": [
    "def create_graph():\n",
    "  with gfile.FastGFile(os.path.join(model_dir, 'classify_image_graph_def.pb'), 'rb') as f:\n",
    "    graph_def = tf.GraphDef()\n",
    "    graph_def.ParseFromString(f.read())\n",
    "    _ = tf.import_graph_def(graph_def, name='')"
   ]
  },
  {
   "cell_type": "markdown",
   "metadata": {},
   "source": [
    "# 3. Perform feature extraction"
   ]
  },
  {
   "cell_type": "markdown",
   "metadata": {},
   "source": [
    "Then, the next step is to extract relevant features.\n",
    "\n",
    "To do so, we retrieve the next-to-last layer of the Inception-v3 as a feature vector for each image. Indeed, the last layer of the convolutional neural network corresponds to the classification step: as it has been trained for the ImageNet dataset, the categories that it will be output will not correspond to the categories in the Product Image Classification dataset we are interested in.\n",
    "\n",
    "The output of the next-to-last layer, however, corresponds to features that are used for the classification in Inception-v3. These **deep features** can be useful for **transfer learning** another classification model, so we extract the output of this layer. In TensorFlow, this layer is called **pool_3**.\n"
   ]
  },
  {
   "cell_type": "markdown",
   "metadata": {},
   "source": [
    "<img align=\"left\" src='reference/note_slide/note_slide_06.JPG' width=60%>\n"
   ]
  },
  {
   "cell_type": "markdown",
   "metadata": {},
   "source": [
    "Define following function to generate deep features corresponding to the output of this next-to-last layer and the labels (**abnormal_valve** & **normal_valve** based on file name) for each customer image."
   ]
  },
  {
   "cell_type": "code",
   "execution_count": null,
   "metadata": {
    "collapsed": true
   },
   "outputs": [],
   "source": [
    "def extract_features(list_images):\n",
    "  nb_features = 2048\n",
    "  features = np.empty((len(list_images),nb_features)) # Deep Features to be stored here\n",
    "  labels = [] # Image class labels to be stored here\n",
    "\n",
    "  create_graph() # Create a TensorFlow computation graph\n",
    "  \n",
    "  with tf.Session() as sess:\n",
    "    next_to_last_tensor = sess.graph.get_tensor_by_name('pool_3:0') # We want the output features from this layer of Inception model\n",
    "    \n",
    "    for ind, image in enumerate(list_images):\n",
    "      if (ind%25 == 0):\n",
    "        print('Processing %s ...' % (image))\n",
    "      if not gfile.Exists(image):\n",
    "        tf.logging.fatal('File does not exist %s', image)\n",
    "          \n",
    "      image_data = gfile.FastGFile(image, 'rb').read()\n",
    "      predictions = sess.run(next_to_last_tensor,\n",
    "                             {'DecodeJpeg/contents:0': image_data})\n",
    "      features[ind,:] = np.squeeze(predictions) # Store the output deep features for current image \n",
    "      labels.append(re.split('_\\d+',image.split('/')[1])[0]) # Get class label based on file names: Class + '_' + Digits + .jpg|JPG\n",
    "          \n",
    "    print('')\n",
    "    print('Processing Completed !')\n",
    "    return features, labels"
   ]
  },
  {
   "cell_type": "markdown",
   "metadata": {},
   "source": [
    "# 4. Obtain deep feature representation of customer’s original image."
   ]
  },
  {
   "cell_type": "markdown",
   "metadata": {},
   "source": [
    "Execute deep feature generation for each valve image:"
   ]
  },
  {
   "cell_type": "code",
   "execution_count": null,
   "metadata": {
    "collapsed": false
   },
   "outputs": [],
   "source": [
    "features,labels = extract_features(list_images)"
   ]
  },
  {
   "cell_type": "code",
   "execution_count": null,
   "metadata": {
    "collapsed": false
   },
   "outputs": [],
   "source": [
    "print('Number of Images                   : %d' % len(features))\n",
    "print('Unique Image Classes (Labels)      : %s' % list(set(labels)))\n",
    "print('Number of Deep Features per Images : %d <-- Question here: Why 2048?' % len(features[0]))\n",
    "print('An Image\\'s Deep Features           : %s' % features[0])"
   ]
  },
  {
   "cell_type": "markdown",
   "metadata": {},
   "source": [
    "Then the features and labels are saved, so they can be used without re-running deep feature generation above."
   ]
  },
  {
   "cell_type": "code",
   "execution_count": null,
   "metadata": {
    "collapsed": false
   },
   "outputs": [],
   "source": [
    "pickle.dump(features, open('reference/features', 'wb'))\n",
    "pickle.dump(labels, open('reference/labels', 'wb'))"
   ]
  },
  {
   "cell_type": "markdown",
   "metadata": {},
   "source": [
    "# 5. Train a Support Vector Machine for new classification task."
   ]
  },
  {
   "cell_type": "markdown",
   "metadata": {},
   "source": [
    "We will now use the deep features that we just computed with TensorFlow to train a new machine leaning classifier/model on the valve images. Another strategy could be to re-train the last layer of the deep neural net in TensorFlow: https://www.tensorflow.org/tutorials/image_retraining"
   ]
  },
  {
   "cell_type": "markdown",
   "metadata": {},
   "source": [
    "<img align=\"left\" src='reference/note_slide/note_slide_07.JPG' width=60%>\n"
   ]
  },
  {
   "cell_type": "markdown",
   "metadata": {},
   "source": [
    "### 5.1 Prepare training and test datasets:"
   ]
  },
  {
   "cell_type": "code",
   "execution_count": 6,
   "metadata": {
    "collapsed": true
   },
   "outputs": [],
   "source": [
    "features = pickle.load(open('reference/features'))\n",
    "labels = pickle.load(open('reference/labels'))"
   ]
  },
  {
   "cell_type": "markdown",
   "metadata": {},
   "source": [
    "### 5.2 We will use 80% of the data as the training set and 20% as the test set."
   ]
  },
  {
   "cell_type": "code",
   "execution_count": 26,
   "metadata": {
    "collapsed": false
   },
   "outputs": [],
   "source": [
    "image_features_train, image_features_test, image_label_train, image_label_test = cross_validation.train_test_split(\n",
    "  features, labels, test_size=0.2, random_state=1)"
   ]
  },
  {
   "cell_type": "markdown",
   "metadata": {},
   "source": [
    "### 5.3 Classifying the images with a generic Support Vector Machine (SVM):\n",
    "We chose to use a Support Vector Machine to classify the images into the two classes using the features computed with TensorFlow. We used the LinearSVC implementation with the default parameters."
   ]
  },
  {
   "cell_type": "code",
   "execution_count": 35,
   "metadata": {
    "collapsed": false
   },
   "outputs": [],
   "source": [
    "ml_model = SVC()\n",
    "# ml_model = LinearSVC() # You can also try Linear SVM Classifer, and compare results accuracy.\n",
    "ml_model.fit(image_features_train, image_label_train)\n",
    "image_label_predicted = ml_model.predict(image_features_test)"
   ]
  },
  {
   "cell_type": "markdown",
   "metadata": {},
   "source": [
    "# 6. Evaluate results of this transfer learning model."
   ]
  },
  {
   "cell_type": "markdown",
   "metadata": {},
   "source": [
    "### 6.1 Evaluation of Model Performance using Accuracy Score:"
   ]
  },
  {
   "cell_type": "code",
   "execution_count": 36,
   "metadata": {
    "collapsed": false
   },
   "outputs": [
    {
     "name": "stdout",
     "output_type": "stream",
     "text": [
      "Accuracy: 97.06%\n"
     ]
    }
   ],
   "source": [
    "print(\"Accuracy: {0:0.2f}%\".format(accuracy_score(image_label_test, image_label_predicted)*100))"
   ]
  },
  {
   "cell_type": "markdown",
   "metadata": {},
   "source": [
    "### 6.2 Evaluation of Model Performance using Confusion Matrix:\n",
    "\n",
    "<img style=\"float: left;\" width=\"50%\" src=\"https://i.ytimg.com/vi/AOIkPnKu0YA/maxresdefault.jpg\">"
   ]
  },
  {
   "cell_type": "code",
   "execution_count": 37,
   "metadata": {
    "collapsed": false
   },
   "outputs": [
    {
     "name": "stdout",
     "output_type": "stream",
     "text": [
      "Confusion matrix of the classifier\n",
      "[[15  1]\n",
      " [ 0 18]]\n"
     ]
    },
    {
     "data": {
      "image/png": "[encoded data removed]",
      "text/plain": [
       "<matplotlib.figure.Figure at 0x7f54497e2190>"
      ]
     },
     "metadata": {},
     "output_type": "display_data"
    }
   ],
   "source": [
    "#Calculate Confusion matrix\n",
    "cmlabels = list(set(labels))\n",
    "cm = confusion_matrix(image_label_predicted, image_label_test, cmlabels)\n",
    "print('Confusion matrix of the classifier')\n",
    "print(cm)\n",
    "\n",
    "# Visualize Confusion matrix\n",
    "fig = plt.figure(figsize=(8, 8))\n",
    "ax = fig.add_subplot(111)\n",
    "cax = ax.matshow(cm)\n",
    "plt.title(u'Confusion matrix of the classifier', fontsize=16)\n",
    "fig.colorbar(cax)\n",
    "ax.set_xticklabels([''] + cmlabels)\n",
    "ax.set_yticklabels([''] + cmlabels)\n",
    "plt.xlabel(u'Actual Class')\n",
    "plt.ylabel(u'Predicted Class')\n",
    "plt.show()"
   ]
  },
  {
   "cell_type": "markdown",
   "metadata": {},
   "source": [
    "### 6.3 Let's have a look at those images the model incorrectly predicted:"
   ]
  },
  {
   "cell_type": "code",
   "execution_count": 44,
   "metadata": {
    "collapsed": false
   },
   "outputs": [
    {
     "name": "stdout",
     "output_type": "stream",
     "text": [
      "wrong_image_index_list : [35]\n"
     ]
    }
   ],
   "source": [
    "# Create a list containing bad predictions\n",
    "wrong_prediction_index_list = []\n",
    "for i in range(len(image_label_predicted)):\n",
    "    if image_label_predicted[i] != image_label_test[i]: wrong_prediction_index_list.append(i)\n",
    "wrong_image_index_list = []\n",
    "for j in range(len(wrong_prediction_index_list)):\n",
    "  for k in range(len(features)):\n",
    "    if np.array_equal(image_features_test[wrong_prediction_index_list[j]], features[k]): wrong_image_index_list.append(k)\n",
    "print ('wrong_image_index_list : %s' % wrong_image_index_list)"
   ]
  },
  {
   "cell_type": "code",
   "execution_count": 45,
   "metadata": {
    "collapsed": false
   },
   "outputs": [
    {
     "data": {
      "image/jpeg": "[encoded data removed]",
      "text/plain": [
       "<IPython.core.display.Image object>"
      ]
     },
     "execution_count": 45,
     "metadata": {},
     "output_type": "execute_result"
    }
   ],
   "source": [
    "Image(list_images[wrong_image_index_list[0]])"
   ]
  },
  {
   "cell_type": "markdown",
   "metadata": {},
   "source": [
    "## Congratulations! You are now equipped with practical skill to carry out deep leaning image analysis in real world!"
   ]
  },
  {
   "cell_type": "markdown",
   "metadata": {},
   "source": [
    "* Deep Learning Basics for Image Analysis\n",
    "* Real World Image Analysis Needs\n",
    "* Idea of Transfer Learning\n",
    "* Architecture of Transfer Learning\n",
    "* Hands-on Datalab Workshop on GCP"
   ]
  },
  {
   "cell_type": "code",
   "execution_count": null,
   "metadata": {
    "collapsed": true
   },
   "outputs": [],
   "source": []
  }
 ],
 "metadata": {
  "kernelspec": {
   "display_name": "Python 3",
   "language": "python",
   "name": "python3"
  },
  "language_info": {
   "codemirror_mode": {
    "name": "ipython",
    "version": 3
   },
   "file_extension": ".py",
   "mimetype": "text/x-python",
   "name": "python",
   "nbconvert_exporter": "python",
   "pygments_lexer": "ipython3",
   "version": "3.5.1"
  }
 },
 "nbformat": 4,
 "nbformat_minor": 2
}
