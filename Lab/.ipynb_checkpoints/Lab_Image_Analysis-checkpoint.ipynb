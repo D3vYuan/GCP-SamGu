{
 "cells": [
  {
   "cell_type": "markdown",
   "metadata": {},
   "source": [
    "# Image Analysis Lab\n",
    "\n",
    "### Detect Normal or Abnormal Industrial Valves, Using Transfer Learning Technology upon Google's Pre-Trained Deep Neural Network\n",
    "\n",
    "\n",
    "The use case here is to use drone to provide regular surveillance on remote or dangerous areas, capturing image of industrial equipment like valves, steam the data back for automatic malfunction diagnosis, using machine intelligence. This improves safety and efficiency compared to current human-involved processes, without large investment on fixed sensor infrastructure. The core part of this solution involves advanced image analysis in real world.\n",
    "\n",
    "\n",
    "By: Sam Gu\n",
    "\n",
    "\n",
    "May 2017\n",
    "\n",
    "\n",
    "Reference: https://www.kernix.com/blog/image-classification-with-a-pre-trained-deep-neural-network_p11"
   ]
  },
  {
   "cell_type": "markdown",
   "metadata": {},
   "source": [
    "### Let's have a look at the problem regarding real valve images, in 'images' directory:"
   ]
  },
  {
   "cell_type": "markdown",
   "metadata": {},
   "source": [
    "### Normal Valves:\n",
    "\n",
    "<img align=\"left\" src='images/normal_valve_78.jpg' width=30%>\n",
    "<img align=\"left\" src='images/normal_valve_37.jpg' width=30%>\n",
    "<img align=\"left\" src='images/normal_valve_79.jpg' width=30%>"
   ]
  },
  {
   "cell_type": "markdown",
   "metadata": {},
   "source": [
    "### Abormal Valves:\n",
    "\n",
    "<img align=\"left\" src='images/abnormal_valve_74.jpg' width=30%>\n",
    "<img align=\"left\" src='images/abnormal_valve_17.jpg' width=30%>\n",
    "<img align=\"left\" src='images/abnormal_valve_79.jpg' width=30%>"
   ]
  },
  {
   "cell_type": "code",
   "execution_count": null,
   "metadata": {
    "collapsed": true
   },
   "outputs": [],
   "source": []
  },
  {
   "cell_type": "code",
   "execution_count": 1,
   "metadata": {
    "collapsed": false
   },
   "outputs": [
    {
     "name": "stdout",
     "output_type": "stream",
     "text": [
      "/content/datalab/GCP-SamGu/Lab\r\n"
     ]
    }
   ],
   "source": [
    "# Find out which file directory we are currently in:\n",
    "!pwd"
   ]
  },
  {
   "cell_type": "markdown",
   "metadata": {},
   "source": [
    "### Google's Inception-v3 Deep Neural Network Model\n",
    "\n",
    "The pre-trained deep learning model that will be used is Inception-v3. It has been developed by Google and has been trained for the ImageNet Competition. We chose this model because of its high classification performance and because it is easily available in TensorFlow.\n",
    "\n",
    "We have downloaded the pre-trained DCNN model at 'reference/reusable_model' directory.\n",
    "If you want to re-download this model, run: !python reference/classify_image.py --model_dir reference/reusable_model\n",
    "\n",
    "The customer's images are in the 'images' directory."
   ]
  },
  {
   "cell_type": "code",
   "execution_count": null,
   "metadata": {
    "collapsed": false
   },
   "outputs": [],
   "source": [
    "# !python ./reference/classify_image.py --model_dir ./reference/reusable_model"
   ]
  },
  {
   "cell_type": "markdown",
   "metadata": {},
   "source": [
    "### Start Deep Learning & Transfer Learning"
   ]
  },
  {
   "cell_type": "code",
   "execution_count": 2,
   "metadata": {
    "collapsed": true
   },
   "outputs": [],
   "source": [
    "import os\n",
    "import re\n",
    "\n",
    "import tensorflow as tf\n",
    "import tensorflow.python.platform\n",
    "from tensorflow.python.platform import gfile\n",
    "import numpy as np\n",
    "import pandas as pd\n",
    "import sklearn\n",
    "from sklearn import cross_validation\n",
    "from sklearn.metrics import accuracy_score, confusion_matrix\n",
    "from sklearn.svm import SVC, LinearSVC\n",
    "import matplotlib.pyplot as plt\n",
    "%matplotlib inline\n",
    "import pickle"
   ]
  },
  {
   "cell_type": "code",
   "execution_count": 15,
   "metadata": {
    "collapsed": true
   },
   "outputs": [],
   "source": [
    "model_dir = 'reference/reusable_model/'\n",
    "images_dir = 'images/'\n",
    "list_images = [images_dir+f for f in os.listdir(images_dir) if re.search('jpg|JPG', f)]"
   ]
  },
  {
   "cell_type": "code",
   "execution_count": 16,
   "metadata": {
    "collapsed": false
   },
   "outputs": [
    {
     "name": "stdout",
     "output_type": "stream",
     "text": [
      "Number of Customer's Images       : 168\n"
     ]
    }
   ],
   "source": [
    "print('Number of Customer\\'s Images       : %d' % len(list_images))"
   ]
  },
  {
   "cell_type": "markdown",
   "metadata": {},
   "source": [
    "To use TensorFlow, you should define a graph that represents the description of computations. Then these computations will be executed within what is called sessions. If you want to know more about the basics of TensorFlow, you can go here.\n",
    "\n",
    "The following function creates a graph from the graph definition that we just downloaded and that is saved in classify_image_graph_def.pb"
   ]
  },
  {
   "cell_type": "code",
   "execution_count": 23,
   "metadata": {
    "collapsed": false
   },
   "outputs": [],
   "source": [
    "def create_graph():\n",
    "  with gfile.FastGFile(os.path.join(model_dir, 'classify_image_graph_def.pb'), 'rb') as f:\n",
    "    graph_def = tf.GraphDef()\n",
    "    graph_def.ParseFromString(f.read())\n",
    "    _ = tf.import_graph_def(graph_def, name='')"
   ]
  },
  {
   "cell_type": "markdown",
   "metadata": {},
   "source": [
    "Then, the next step is to extract relevant features.\n",
    "\n",
    "To do so, we retrieve the next-to-last layer of the Inception-v3 as a feature vector for each image. Indeed, the last layer of the convolutional neural network corresponds to the classification step: as it has been trained for the ImageNet dataset, the categories that it will be output will not correspond to the categories in the Product Image Classification dataset we are interested in.\n",
    "\n",
    "The output of the next-to-last layer, however, corresponds to features that are used for the classification in Inception-v3. The hypothesis here is that these features can be useful for training another classification model, so we extract the output of this layer. In TensorFlow, this layer is called pool_3.\n",
    "\n",
    "The following function returns the features corresponding to the output of this next-to-last layer and the labels for each image."
   ]
  },
  {
   "cell_type": "code",
   "execution_count": 36,
   "metadata": {
    "collapsed": true
   },
   "outputs": [],
   "source": [
    "def extract_features(list_images):\n",
    "  nb_features = 2048 # Deep Features\n",
    "  features = np.empty((len(list_images),nb_features))\n",
    "  labels = []\n",
    "\n",
    "  create_graph()\n",
    "  \n",
    "  with tf.Session() as sess:\n",
    "    next_to_last_tensor = sess.graph.get_tensor_by_name('pool_3:0')\n",
    "    \n",
    "    for ind, image in enumerate(list_images):\n",
    "      if (ind%25 == 0):\n",
    "        print('Processing %s...' % (image))\n",
    "      if not gfile.Exists(image):\n",
    "        tf.logging.fatal('File does not exist %s', image)\n",
    "          \n",
    "      image_data = gfile.FastGFile(image, 'rb').read()\n",
    "      predictions = sess.run(next_to_last_tensor,\n",
    "                             {'DecodeJpeg/contents:0': image_data})\n",
    "      features[ind,:] = np.squeeze(predictions)\n",
    "      labels.append(re.split('_\\d+',image.split('/')[1])[0]) # Naming Convention: Class Lable + Digits + .jpg|JPG\n",
    "          \n",
    "    print('')\n",
    "    print('Processing Completed !')\n",
    "    return features, labels\n"
   ]
  },
  {
   "cell_type": "code",
   "execution_count": 35,
   "metadata": {
    "collapsed": false
   },
   "outputs": [
    {
     "name": "stdout",
     "output_type": "stream",
     "text": [
      "Processing images/abnormal_valve_78.jpg...\n",
      "Processing images/normal_valve_03.jpg...\n",
      "Processing images/normal_valve_80.jpg...\n",
      "Processing images/normal_valve_27.jpg...\n",
      "Processing images/abnormal_valve_21.jpg...\n",
      "Processing images/abnormal_valve_64.jpg...\n",
      "Processing images/abnormal_valve_17.jpg...\n",
      "Processing Completed !\n"
     ]
    }
   ],
   "source": [
    "features,labels = extract_features(list_images)"
   ]
  },
  {
   "cell_type": "code",
   "execution_count": 37,
   "metadata": {
    "collapsed": false
   },
   "outputs": [
    {
     "name": "stdout",
     "output_type": "stream",
     "text": [
      "Number of Images                   : 168\n",
      "Number of Deep Features per Images : 2048\n",
      "Unique Image Classess (Labels)     : ['abnormal_valve', 'normal_valve']\n"
     ]
    }
   ],
   "source": [
    "print('Number of Images                   : %d' % len(features))\n",
    "print('Number of Deep Features per Images : %d' % len(features[0]))\n",
    "print('Unique Image Classess (Labels)     : %s' % list(set(labels)))"
   ]
  },
  {
   "cell_type": "markdown",
   "metadata": {},
   "source": [
    "### WIP: Show Raw Pixels -> Deep Features"
   ]
  },
  {
   "cell_type": "code",
   "execution_count": 39,
   "metadata": {
    "collapsed": false
   },
   "outputs": [
    {
     "data": {
      "text/plain": [
       "168"
      ]
     },
     "execution_count": 39,
     "metadata": {},
     "output_type": "execute_result"
    }
   ],
   "source": [
    "len(labels)"
   ]
  },
  {
   "cell_type": "markdown",
   "metadata": {},
   "source": [
    "Then the features and labels are saved, so they can be used without re-running this step."
   ]
  },
  {
   "cell_type": "code",
   "execution_count": 40,
   "metadata": {
    "collapsed": false
   },
   "outputs": [],
   "source": [
    "pickle.dump(features, open('features', 'wb'))\n",
    "pickle.dump(labels, open('labels', 'wb'))"
   ]
  },
  {
   "cell_type": "markdown",
   "metadata": {},
   "source": [
    "### Classification based on the features computed using TensorFlow\n",
    "\n",
    "We will now use the features that we just computed with TensorFlow to train a classifier on the images. Another strategy could be to re-train the last layer of the CNN in TensorFlow, as shown here in TensorFlow tutorials and here for the python version."
   ]
  },
  {
   "cell_type": "markdown",
   "metadata": {},
   "source": [
    "### Prepare training and test datasets:"
   ]
  },
  {
   "cell_type": "code",
   "execution_count": 53,
   "metadata": {
    "collapsed": true
   },
   "outputs": [],
   "source": [
    "features = pickle.load(open('features'))\n",
    "labels = pickle.load(open('labels'))"
   ]
  },
  {
   "cell_type": "markdown",
   "metadata": {},
   "source": [
    "### We will use 80% of the data as the training set and 20% as the test set."
   ]
  },
  {
   "cell_type": "code",
   "execution_count": 84,
   "metadata": {
    "collapsed": false
   },
   "outputs": [],
   "source": [
    "X_train, X_test, y_train, y_test = cross_validation.train_test_split(features, labels, test_size=0.2, random_state=42)\n"
   ]
  },
  {
   "cell_type": "markdown",
   "metadata": {},
   "source": [
    "### Classifying the images with a Linear Support Vector Machine (SVM):\n",
    "We chose to use a linear SVM to classify the images into the 2 categories using the features computed with TensorFlow. We used the LinearSVC implementation with the default parameters."
   ]
  },
  {
   "cell_type": "code",
   "execution_count": 85,
   "metadata": {
    "collapsed": true
   },
   "outputs": [],
   "source": [
    "clf = LinearSVC(C=1.0, loss='squared_hinge', penalty='l2',multi_class='ovr')\n",
    "clf.fit(X_train, y_train)\n",
    "y_pred = clf.predict(X_test)"
   ]
  },
  {
   "cell_type": "markdown",
   "metadata": {},
   "source": [
    "### Evaluation of Model Performance using Accuracy Score."
   ]
  },
  {
   "cell_type": "code",
   "execution_count": 86,
   "metadata": {
    "collapsed": false
   },
   "outputs": [
    {
     "name": "stdout",
     "output_type": "stream",
     "text": [
      "Accuracy: 94.1%\n"
     ]
    }
   ],
   "source": [
    "print(\"Accuracy: {0:0.1f}%\".format(accuracy_score(y_test, y_pred)*100))"
   ]
  },
  {
   "cell_type": "markdown",
   "metadata": {},
   "source": [
    "### Evaluation of Model Performance using Confusion Matrix\n",
    "\n",
    "<img style=\"float: left;\" width=\"60%\" src=\"https://i.ytimg.com/vi/AOIkPnKu0YA/maxresdefault.jpg\">"
   ]
  },
  {
   "cell_type": "code",
   "execution_count": 87,
   "metadata": {
    "collapsed": true
   },
   "outputs": [],
   "source": [
    "from sklearn.metrics import confusion_matrix, roc_curve, auc\n",
    "# import numpy as np"
   ]
  },
  {
   "cell_type": "code",
   "execution_count": 88,
   "metadata": {
    "collapsed": false
   },
   "outputs": [
    {
     "name": "stdout",
     "output_type": "stream",
     "text": [
      "Confusion matrix of the classifier\n",
      "[[13  0]\n",
      " [ 2 19]]\n"
     ]
    },
    {
     "data": {
      "image/png": "[encoded data removed]",
      "text/plain": [
       "<matplotlib.figure.Figure at 0x7fc5096d6ed0>"
      ]
     },
     "metadata": {},
     "output_type": "display_data"
    }
   ],
   "source": [
    "#Calculate Confusion matrix\n",
    "cmlabels = list(set(labels))\n",
    "# cm = confusion_matrix(np.array(y_test), y_pred)\n",
    "cm = confusion_matrix(y_pred, y_test)\n",
    "print('Confusion matrix of the classifier')\n",
    "print(cm)\n",
    "\n",
    "# Visualize Confusion matrix\n",
    "fig = plt.figure(figsize=(8, 8))\n",
    "ax = fig.add_subplot(111)\n",
    "cax = ax.matshow(cm)\n",
    "plt.title(u'Confusion matrix of the classifier', fontsize=16)\n",
    "fig.colorbar(cax)\n",
    "ax.set_xticklabels([''] + cmlabels)\n",
    "ax.set_yticklabels([''] + cmlabels)\n",
    "plt.xlabel(u'Actual Class')\n",
    "plt.ylabel(u'Predicted Class')\n",
    "plt.show()"
   ]
  },
  {
   "cell_type": "code",
   "execution_count": null,
   "metadata": {
    "collapsed": true
   },
   "outputs": [],
   "source": [
    "labels[0]"
   ]
  },
  {
   "cell_type": "code",
   "execution_count": null,
   "metadata": {
    "collapsed": true
   },
   "outputs": [],
   "source": []
  }
 ],
 "metadata": {
  "kernelspec": {
   "display_name": "Python 2",
   "language": "python",
   "name": "python2"
  },
  "language_info": {
   "codemirror_mode": {
    "name": "ipython",
    "version": 2
   },
   "file_extension": ".py",
   "mimetype": "text/x-python",
   "name": "python",
   "nbconvert_exporter": "python",
   "pygments_lexer": "ipython2",
   "version": "2.7.9"
  }
 },
 "nbformat": 4,
 "nbformat_minor": 2
}
