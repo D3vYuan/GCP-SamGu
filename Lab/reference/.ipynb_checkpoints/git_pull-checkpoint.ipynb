{
 "cells": [
  {
   "cell_type": "code",
   "execution_count": 1,
   "metadata": {
    "collapsed": false
   },
   "outputs": [
    {
     "name": "stdout",
     "output_type": "stream",
     "text": [
      "remote: Counting objects: 9, done.\u001b[K\n",
      "remote: Compressing objects: 100% (5/5), done.\u001b[K\n",
      "remote: Total 9 (delta 4), reused 9 (delta 4), pack-reused 0\u001b[K\n",
      "Unpacking objects: 100% (9/9), done.\n",
      "From https://github.com/telescopeuser/GCP-SamGu\n",
      "   a54c9cb..6256fda  master     -> origin/master\n",
      "Updating a54c9cb..6256fda\n",
      "Fast-forward\n",
      " .ipynb_checkpoints/README-checkpoint.ipynb         | 212 \u001b[31m----------\u001b[m\n",
      " .../Lab_Image_Analysis_v01-checkpoint.ipynb        | 464 \u001b[31m--------------------\u001b[m\n",
      " .../Lab_Image_Analysis_v02-checkpoint.ipynb        | 470 \u001b[31m---------------------\u001b[m\n",
      " .../Lab_Image_Analysis_v03-checkpoint.ipynb        | 470 \u001b[31m---------------------\u001b[m\n",
      " Lab/Lab_Image_Analysis_v03.ipynb                   |  22 \u001b[32m+\u001b[m\u001b[31m-\u001b[m\n",
      " .../.ipynb_checkpoints/git_pull-checkpoint.ipynb   |  65 \u001b[31m---\u001b[m\n",
      " Lab/reference/note_slide/note_slide_09.JPG         | Bin \u001b[31m69156\u001b[m -> \u001b[32m79393\u001b[m bytes\n",
      " Lab/reference/note_slide/setup_01.png              | Bin \u001b[31m0\u001b[m -> \u001b[32m29570\u001b[m bytes\n",
      " Lab/reference/note_slide/setup_02.png              | Bin \u001b[31m0\u001b[m -> \u001b[32m20168\u001b[m bytes\n",
      " 9 files changed, 11 insertions(+), 1692 deletions(-)\n",
      " delete mode 100644 .ipynb_checkpoints/README-checkpoint.ipynb\n",
      " delete mode 100644 Lab/.ipynb_checkpoints/Lab_Image_Analysis_v01-checkpoint.ipynb\n",
      " delete mode 100644 Lab/.ipynb_checkpoints/Lab_Image_Analysis_v02-checkpoint.ipynb\n",
      " delete mode 100644 Lab/.ipynb_checkpoints/Lab_Image_Analysis_v03-checkpoint.ipynb\n",
      " delete mode 100644 Lab/reference/.ipynb_checkpoints/git_pull-checkpoint.ipynb\n",
      " create mode 100644 Lab/reference/note_slide/setup_01.png\n",
      " create mode 100644 Lab/reference/note_slide/setup_02.png\n"
     ]
    }
   ],
   "source": [
    "!git pull"
   ]
  },
  {
   "cell_type": "code",
   "execution_count": null,
   "metadata": {
    "collapsed": true
   },
   "outputs": [],
   "source": []
  }
 ],
 "metadata": {
  "kernelspec": {
   "display_name": "Python 2",
   "language": "python",
   "name": "python2"
  },
  "language_info": {
   "codemirror_mode": {
    "name": "ipython",
    "version": 2
   },
   "file_extension": ".py",
   "mimetype": "text/x-python",
   "name": "python",
   "nbconvert_exporter": "python",
   "pygments_lexer": "ipython2",
   "version": "2.7.9"
  }
 },
 "nbformat": 4,
 "nbformat_minor": 2
}
