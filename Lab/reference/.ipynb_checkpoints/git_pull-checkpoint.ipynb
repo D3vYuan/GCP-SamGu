{
 "cells": [
  {
   "cell_type": "code",
   "execution_count": 3,
   "metadata": {
    "collapsed": false
   },
   "outputs": [
    {
     "name": "stdout",
     "output_type": "stream",
     "text": [
      "remote: Counting objects: 11, done.\u001b[K\n",
      "remote: Compressing objects: 100% (5/5), done.\u001b[K\n",
      "remote: Total 11 (delta 6), reused 11 (delta 6), pack-reused 0\u001b[K\n",
      "Unpacking objects: 100% (11/11), done.\n",
      "From https://github.com/telescopeuser/GCP-SamGu\n",
      "   c1697a8..6fe9ca4  master     -> origin/master\n",
      "Updating c1697a8..6fe9ca4\n",
      "Fast-forward\n",
      " .../Lab_Image_Analysis-checkpoint.ipynb            | 791 \u001b[31m---------------------\u001b[m\n",
      " .../Lab_Image_Analysis_v07-checkpoint.ipynb        | 791 \u001b[31m---------------------\u001b[m\n",
      " Lab/reference/note_slide/note_slide_07.JPG         | Bin \u001b[31m85419\u001b[m -> \u001b[32m84518\u001b[m bytes\n",
      " Lab/reference/note_slide/note_slide_08.JPG         | Bin \u001b[31m80680\u001b[m -> \u001b[32m82298\u001b[m bytes\n",
      " Notes/Notes_Image_Analysis.pdf                     | Bin \u001b[31m716151\u001b[m -> \u001b[32m707782\u001b[m bytes\n",
      " README.ipynb                                       | 265 \u001b[32m+++++++\u001b[m\n",
      " README.md                                          |   2 \u001b[32m+\u001b[m\u001b[31m-\u001b[m\n",
      " 7 files changed, 266 insertions(+), 1583 deletions(-)\n",
      " delete mode 100644 Lab/.ipynb_checkpoints/Lab_Image_Analysis-checkpoint.ipynb\n",
      " delete mode 100644 Lab/.ipynb_checkpoints/Lab_Image_Analysis_v07-checkpoint.ipynb\n",
      " create mode 100644 README.ipynb\n"
     ]
    }
   ],
   "source": [
    "!git pull"
   ]
  },
  {
   "cell_type": "code",
   "execution_count": null,
   "metadata": {
    "collapsed": true
   },
   "outputs": [],
   "source": []
  }
 ],
 "metadata": {
  "kernelspec": {
   "display_name": "Python 2",
   "language": "python",
   "name": "python2"
  },
  "language_info": {
   "codemirror_mode": {
    "name": "ipython",
    "version": 2
   },
   "file_extension": ".py",
   "mimetype": "text/x-python",
   "name": "python",
   "nbconvert_exporter": "python",
   "pygments_lexer": "ipython2",
   "version": "2.7.9"
  }
 },
 "nbformat": 4,
 "nbformat_minor": 2
}
